{
 "cells": [
  {
   "cell_type": "markdown",
   "metadata": {},
   "source": [
    "# Digits Recognition\n",
    "\n",
    "## CS640\n",
    "\n",
    "### U59844514 Xiankang Wu\n",
    "\n",
    "### U37992938 Rongyu Wang\n",
    "\n",
    "<p>      This code is about the application of our NN on digits recognition.\n",
    "\n",
    "<p>      It's capable of recognizing 10 digits (0 to 9).\n",
    "    \n",
    "<p>      Check out the discussion on the efficiency of our NN (problem 6) at the end."
   ]
  },
  {
   "cell_type": "code",
   "execution_count": 12,
   "metadata": {},
   "outputs": [],
   "source": [
    "# Import Python libraries\n",
    "import numpy as np    # numpy is the fundamental package for scientific computing with Python, such linear algebra, array...\n",
    "import matplotlib.pyplot as plt      # matplotlib is a Python 2D plotting library which produces publication quality figures.\n",
    "from sklearn.model_selection import KFold    #k-fold cross-validation"
   ]
  },
  {
   "cell_type": "code",
   "execution_count": 13,
   "metadata": {},
   "outputs": [],
   "source": [
    "class LogisticRegression:\n",
    "    \"\"\"\n",
    "    This lab implements a Logistic Regression Classifier.\n",
    "    \"\"\"\n",
    "    #Here we need to add a parameter hidden_dim\n",
    "    def __init__(self, input_dim, output_dim, hidden_dim):\n",
    "        \"\"\"\n",
    "        Initializes the parameters of the logistic regression classifer to \n",
    "        random values.\n",
    "        args:\n",
    "            input_dim: Number of dimensions of the input data\n",
    "            output_dim: Number of classes\n",
    "            hidden_dim: Number of nodes in the hidden layer\n",
    "        \"\"\"\n",
    "        #initialize a(1) and a(2) with random matrix(input_dim * hidden_dim)\n",
    "        self.theta1 = np.random.randn(input_dim, hidden_dim) / np.sqrt(input_dim)       \n",
    "        self.bias1 = np.zeros((1, hidden_dim))\n",
    "        #initialize a(2) and a(3) with random matrix(hidden_dim * output_dim)\n",
    "        self.theta2 = np.random.randn(hidden_dim, output_dim) / np.sqrt(hidden_dim) \n",
    "        self.bias2 = np.zeros((1, output_dim))\n",
    "\n",
    "    #--------------------------------------------------------------------------\n",
    "    \n",
    "    #Not sure if needed:\n",
    "    #def tanh_deriv(x):\n",
    "        #return 1.0 - np.tanh(x)**2\n",
    "    \n",
    "    def compute_cost(self,X, y):\n",
    "        \"\"\"\n",
    "        Computes the total cost on the dataset.\n",
    "\n",
    "        args:\n",
    "            X: Data array\n",
    "            y: Labels corresponding to input data\n",
    "\n",
    "        returns:\n",
    "            cost: average cost per data sample\n",
    "        \"\"\"\n",
    "        #Number of entries in .csv\n",
    "        num_examples = np.shape(X)[0]\n",
    "        # Hyperbolic tangent funcition as activation function\n",
    "        z1 = np.dot(X,self.theta1) + self.bias1\n",
    "        a = np.tanh(z1)\n",
    "        z2 = np.dot(a, self.theta2) + self.bias2\n",
    "        exp_z2 = np.exp(z2)\n",
    "        \n",
    "        #axis = 1: sum over rows\n",
    "        #We can see that 0≤softmax_scores≤1. the values of softmax_scores can be considered as probabilities.\n",
    "        #https://math.stackexchange.com/questions/2471528/understanding-the-softmax-function\n",
    "        softmax_scores = exp_z2 / np.sum(exp_z2, axis=1, keepdims=True)\n",
    "        one_hot_y = np.zeros((num_examples,np.max(y)+1))\n",
    "        logloss = np.zeros((num_examples,))        \n",
    "        for i in range(np.shape(X)[0]):\n",
    "            one_hot_y[i,y[i]] = 1\n",
    "            logloss[i] = -np.sum(np.log(softmax_scores[i,:]) * one_hot_y[i,:])\n",
    "        data_loss = np.sum(logloss)\n",
    "        return 1./num_examples * data_loss\n",
    "    #--------------------------------------------------------------------------\n",
    "    \n",
    "    def predict(self,X):\n",
    "        \"\"\"\n",
    "        Makes a prediction based on current model parameters.\n",
    "        \n",
    "        args:\n",
    "            X: Data array\n",
    "            \n",
    "        returns:\n",
    "            predictions: array of predicted labels\n",
    "        \"\"\"\n",
    "        z1 = np.dot(X,self.theta1) + self.bias1\n",
    "        a = np.tanh(z1)\n",
    "        z2 = np.dot(a, self.theta2) + self.bias2\n",
    "        exp_z2 = np.exp(z2)\n",
    "        softmax_scores = exp_z2 / np.sum(exp_z2, axis=1, keepdims=True)\n",
    "        predictions = np.argmax(softmax_scores, axis = 1)\n",
    "        return predictions\n",
    "    \n",
    "    #--------------------------------------------------------------------------\n",
    "    # implement logistic regression using gradient descent \n",
    "    # default learning rate = 0.01\n",
    "    #--------------------------------------------------------------------------\n",
    "    def fit(self,X,y,num_epochs,alpha=0.01):\n",
    "        \n",
    "        #Learns model parameters to fit the data.\n",
    "        for epoch in range(0, num_epochs):\n",
    "            \n",
    "            # Forward propagation\n",
    "            z1 = np.dot(X, self.theta1) + self.bias1\n",
    "            a = np.tanh(z1)\n",
    "            z2 = np.dot(a, self.theta2) + self.bias2\n",
    "            exp_z2 = np.exp(z2)\n",
    "            softmax_scores = exp_z2 / np.sum(exp_z2, axis=1, keepdims=True)                \n",
    "\n",
    "            # Backpropagation\n",
    "            beta1 = np.zeros_like(softmax_scores)\n",
    "            one_hot_y = np.zeros_like(softmax_scores)\n",
    "            for i in range(X.shape[0]):\n",
    "                one_hot_y[i, y[i]] = 1\n",
    "            beta2 = softmax_scores - one_hot_y\n",
    "            \n",
    "            # Compute gradients of model parameters\n",
    "            dtheta2 = np.dot(a.T, beta2)\n",
    "            dbias2 = np.sum(beta2, axis = 0, keepdims=True) \n",
    "            beta1 = np.dot(beta2, self.theta2.T) * (1 - np.power(a, 2))\n",
    "            dtheta1 = np.dot(X.T, beta1)                                   \n",
    "            dbias1 = np.sum(beta1, axis = 0)\n",
    "            \n",
    "            \n",
    "            # Gradient descent parameter update\n",
    "            # alpha is the learning rate\n",
    "            self.theta2 -= alpha * dtheta2\n",
    "            self.bias2  -= alpha * dbias2\n",
    "            self.theta1 -= alpha * dtheta1\n",
    "            self.bias1  -= alpha * dbias1\n",
    "        return 0"
   ]
  },
  {
   "cell_type": "code",
   "execution_count": 14,
   "metadata": {},
   "outputs": [],
   "source": [
    "def plot_decision_boundary(model, X, y):\n",
    "    \"\"\"\n",
    "    Function to print the decision boundary given by model.\n",
    "    \n",
    "    args:\n",
    "        model: model, whose parameters are used to plot the decision boundary.\n",
    "        X: input data\n",
    "        y: input labels\n",
    "    \"\"\"\n",
    "    \n",
    "    x1_array, x2_array = np.meshgrid(np.arange(-10, 10, 0.01), np.arange(-10, 10, 0.01))\n",
    "    grid_coordinates = np.c_[x1_array.ravel(), x2_array.ravel()]\n",
    "    # Makes a prediction based on current model parameters.\n",
    "    Z = model.predict(grid_coordinates)\n",
    "    Z = Z.reshape(x1_array.shape)\n",
    "    plt.contourf(x1_array, x2_array, Z, cmap=plt.cm.bwr)\n",
    "    #plt.scatter(X[:, 0], X[:, 1], c=y, cmap=plt.cm.bwr)\n",
    "    plt.scatter(X[:, 0], X[:, 1], c=y, cmap=plt.cm.bwr, alpha = 0.05)\n",
    "    plt.show()"
   ]
  },
  {
   "cell_type": "code",
   "execution_count": 15,
   "metadata": {},
   "outputs": [],
   "source": [
    "def Confusion_matrix(X, y):\n",
    "    acc = 0\n",
    "    y_pred = logreg.predict(X)\n",
    "    con_mat = np.zeros((output_dim, output_dim))\n",
    "    for i in range(len(y_pred)):\n",
    "        con_mat[y_pred[i], y[i]] += 1\n",
    "        if y[i] == y_pred[i]: \n",
    "            acc += 1\n",
    "    acc = acc*1.0/len(y_pred)\n",
    "    \n",
    "    return acc, con_mat"
   ]
  },
  {
   "cell_type": "code",
   "execution_count": 16,
   "metadata": {},
   "outputs": [],
   "source": [
    "#1. Load data\n",
    "X_train = np.genfromtxt('DATA/Digit_X_train.csv', delimiter=',') #https://docs.scipy.org/doc/numpy/reference/generated/numpy.genfromtxt.html\n",
    "y_train = np.genfromtxt('DATA/Digit_y_train.csv', delimiter=',').astype(np.int64)\n",
    "X_test = np.genfromtxt('DATA/Digit_X_test.csv', delimiter=',')\n",
    "y_test = np.genfromtxt('DATA/Digit_y_test.csv', delimiter=',').astype(np.int64)"
   ]
  },
  {
   "cell_type": "code",
   "execution_count": 17,
   "metadata": {},
   "outputs": [],
   "source": [
    "#2. Initialize model\n",
    "input_dim = np.shape(X_train)[1]\n",
    "output_dim = np.max(y_train) + 1"
   ]
  },
  {
   "cell_type": "code",
   "execution_count": 18,
   "metadata": {
    "scrolled": false
   },
   "outputs": [
    {
     "name": "stdout",
     "output_type": "stream",
     "text": [
      "Test with 10 hidden nodes: \n",
      "\n",
      "Confusion Matrix: \n",
      " [[85.  0.  0.  0.  0.  0.  0.  0.  0.  1.]\n",
      " [ 0. 80.  0.  0.  1.  0.  1.  0.  3.  0.]\n",
      " [ 0.  0. 83.  1.  0.  0.  0.  1.  0.  0.]\n",
      " [ 0.  1.  3. 82.  0.  0.  0.  0.  1.  1.]\n",
      " [ 1.  0.  0.  0. 86.  0.  0.  1.  0.  0.]\n",
      " [ 1.  0.  0.  3.  0. 88.  0.  5.  4.  2.]\n",
      " [ 1.  0.  0.  0.  1.  1. 90.  0.  0.  0.]\n",
      " [ 0.  0.  0.  0.  0.  0.  0. 80.  0.  0.]\n",
      " [ 0.  2.  0.  3.  0.  0.  0.  0. 79.  0.]\n",
      " [ 0.  8.  0.  2.  4.  2.  0.  2.  1. 88.]]\n",
      "Accuracy: 0.9354838709677419\n",
      "Cost: 0.27503690413780246 \n",
      "\n"
     ]
    }
   ],
   "source": [
    "#3. data analysis with 20 nodes in the hidden layer\n",
    "# With 10 nodes we can achieve an 0.927 accuracy. With 20 nodes we can achieve 0.945 accuracy.\n",
    "# Number of nodes larger than 20 may cause overfitting, which decreases the performance of our NN.\n",
    "\n",
    "#hidden_dim added in the class initializer list. \n",
    "logreg = LogisticRegression(input_dim, output_dim, 10)\n",
    "print (\"Test with 10 hidden nodes: \\n\")\n",
    "logreg.fit(X_train, y_train, 1000, alpha=0.001) \n",
    "acc, con_mat = Confusion_matrix(X_test, y_test)\n",
    "print (\"Confusion Matrix: \\n\", con_mat)\n",
    "print (\"Accuracy:\", acc)\n",
    "print (\"Cost:\", logreg.compute_cost(X_test,y_test), \"\\n\")"
   ]
  },
  {
   "cell_type": "code",
   "execution_count": 19,
   "metadata": {
    "scrolled": false
   },
   "outputs": [
    {
     "name": "stdout",
     "output_type": "stream",
     "text": [
      "Test with 20 hidden nodes: \n",
      "\n",
      "Confusion Matrix: \n",
      " [[86.  0.  0.  0.  1.  0.  0.  0.  0.  0.]\n",
      " [ 0. 81.  0.  0.  1.  1.  1.  0.  3.  0.]\n",
      " [ 0.  0. 83.  1.  0.  0.  0.  0.  0.  0.]\n",
      " [ 0.  1.  3. 77.  0.  0.  0.  0.  0.  1.]\n",
      " [ 1.  0.  0.  0. 87.  0.  0.  1.  0.  0.]\n",
      " [ 0.  0.  0.  6.  0. 85.  0.  0.  4.  2.]\n",
      " [ 1.  0.  0.  0.  0.  2. 90.  0.  0.  0.]\n",
      " [ 0.  0.  0.  1.  0.  0.  0. 85.  1.  1.]\n",
      " [ 0.  2.  0.  5.  0.  0.  0.  0. 80.  0.]\n",
      " [ 0.  7.  0.  1.  3.  3.  0.  3.  0. 88.]]\n",
      "Accuracy: 0.9365962180200222\n",
      "Cost: 0.28285079773210087 \n",
      "\n"
     ]
    }
   ],
   "source": [
    "#3. data analysis with 20 nodes in the hidden layer\n",
    "# With 10 nodes we can achieve an 0.927 accuracy. With 20 nodes we can achieve 0.945 accuracy.\n",
    "# Number of nodes larger than 20 may cause overfitting, which decreases the performance of our NN.\n",
    "\n",
    "#hidden_dim added in the class initializer list. \n",
    "logreg = LogisticRegression(input_dim, output_dim, 20)\n",
    "print (\"Test with 20 hidden nodes: \\n\")\n",
    "\n",
    "logreg.fit(X_train, y_train, 1000, alpha=0.001) \n",
    "acc, con_mat = Confusion_matrix(X_test, y_test)\n",
    "print (\"Confusion Matrix: \\n\", con_mat)\n",
    "print (\"Accuracy:\", acc)\n",
    "print (\"Cost:\", logreg.compute_cost(X_test,y_test), \"\\n\")"
   ]
  },
  {
   "cell_type": "code",
   "execution_count": 20,
   "metadata": {
    "scrolled": false
   },
   "outputs": [
    {
     "name": "stdout",
     "output_type": "stream",
     "text": [
      "Test with 30 hidden nodes: \n",
      "\n",
      "Confusion Matrix: \n",
      " [[86.  0.  0.  0.  1.  0.  0.  0.  0.  0.]\n",
      " [ 0. 83.  0.  0.  1.  0.  1.  1.  3.  0.]\n",
      " [ 0.  0. 84.  0.  0.  0.  0.  0.  0.  0.]\n",
      " [ 0.  1.  2. 79.  0.  0.  0.  0.  1.  1.]\n",
      " [ 1.  0.  0.  0. 86.  0.  0.  1.  0.  0.]\n",
      " [ 0.  1.  0.  5.  0. 87.  0.  0.  3.  2.]\n",
      " [ 1.  0.  0.  0.  1.  1. 90.  0.  0.  0.]\n",
      " [ 0.  0.  0.  2.  0.  0.  0. 86.  0.  0.]\n",
      " [ 0.  1.  0.  5.  0.  0.  0.  0. 81.  1.]\n",
      " [ 0.  5.  0.  0.  3.  3.  0.  1.  0. 88.]]\n",
      "Accuracy: 0.9454949944382648\n",
      "Cost: 0.253904081505883 \n",
      "\n"
     ]
    }
   ],
   "source": [
    "#3. data analysis with 20 nodes in the hidden layer\n",
    "# With 10 nodes we can achieve an 0.927 accuracy. With 20 nodes we can achieve 0.945 accuracy.\n",
    "# Number of nodes larger than 20 may cause overfitting, which decreases the performance of our NN.\n",
    "\n",
    "\n",
    "#hidden_dim added in the class initializer list. \n",
    "logreg = LogisticRegression(input_dim, output_dim, 30)\n",
    "print (\"Test with 30 hidden nodes: \\n\")\n",
    "\n",
    "logreg.fit(X_train, y_train, 1000, alpha=0.001) \n",
    "acc, con_mat = Confusion_matrix(X_test, y_test)\n",
    "print (\"Confusion Matrix: \\n\", con_mat)\n",
    "print (\"Accuracy:\", acc)\n",
    "print (\"Cost:\", logreg.compute_cost(X_test,y_test), \"\\n\")"
   ]
  },
  {
   "cell_type": "markdown",
   "metadata": {},
   "source": [
    "## Problem 6: Performance discussion of our neural net\n",
    "\n",
    "<p> In this section, we trained our neural net based on digits training sets and apply it to recognizing test sets.\n",
    "    With 10 nodes in the hidden layer, we can achieve 0.927 accuracy. With 20 nodes we can achieve 0.945 accuracy.\n",
    "    We found that number of nodes larger than 20 may cause overfitting, which decreases the performance of our NN."
   ]
  },
  {
   "cell_type": "code",
   "execution_count": null,
   "metadata": {},
   "outputs": [],
   "source": []
  },
  {
   "cell_type": "code",
   "execution_count": null,
   "metadata": {},
   "outputs": [],
   "source": []
  }
 ],
 "metadata": {
  "kernelspec": {
   "display_name": "Python 3",
   "language": "python",
   "name": "python3"
  },
  "language_info": {
   "codemirror_mode": {
    "name": "ipython",
    "version": 3
   },
   "file_extension": ".py",
   "mimetype": "text/x-python",
   "name": "python",
   "nbconvert_exporter": "python",
   "pygments_lexer": "ipython3",
   "version": "3.7.1"
  }
 },
 "nbformat": 4,
 "nbformat_minor": 2
}
